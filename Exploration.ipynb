{
 "cells": [
  {
   "cell_type": "code",
   "execution_count": null,
   "metadata": {},
   "outputs": [],
   "source": [
    "from marvin_python_toolbox.common.data import MarvinData\n",
    "import pandas as pd\n",
    "\n",
    "initial_dataset = pd.read_csv(MarvinData.download_file(\"https://s3.amazonaws.com/automl-example/produtos.csv\"), delimiter=\";\")\n",
    "\n",
    "initial_dataset[\"text\"] = initial_dataset[\"nome\"] + \" \" + initial_dataset[\"descricao\"]\n",
    "initial_dataset.drop([\"descricao\", \"nome\"], axis=1, inplace=True)\n",
    "initial_dataset.dropna(inplace=True)\n",
    "\n",
    "print(initial_dataset.head())\n",
    "\n",
    "marvin_initial_dataset = initial_dataset"
   ]
  },
  {
   "cell_type": "code",
   "execution_count": null,
   "metadata": {},
   "outputs": [],
   "source": [
    "marvin_initial_dataset.head()"
   ]
  },
  {
   "cell_type": "code",
   "execution_count": null,
   "metadata": {},
   "outputs": [],
   "source": [
    "marvin_initial_dataset.categoria.value_counts()"
   ]
  },
  {
   "cell_type": "code",
   "execution_count": null,
   "metadata": {},
   "outputs": [],
   "source": [
    "from sklearn.feature_extraction.text import CountVectorizer\n",
    "from sklearn.model_selection import train_test_split\n",
    "\n",
    "X_train,X_test,y_train,y_test = train_test_split(\n",
    "    marvin_initial_dataset[\"text\"], \n",
    "    marvin_initial_dataset[\"categoria\"], \n",
    "    test_size = 0.2, \n",
    "    random_state = 10\n",
    ")\n",
    "\n",
    "vect = CountVectorizer()\n",
    "vect.fit(marvin_initial_dataset[\"text\"])\n",
    "\n",
    "marvin_dataset = {\n",
    "    \"X_train\": vect.transform(X_train),\n",
    "    \"X_test\": vect.transform(X_test),\n",
    "    \"y_train\": y_train,\n",
    "    \"y_test\" : y_test,\n",
    "    \"vect\": vect\n",
    "}"
   ]
  },
  {
   "cell_type": "code",
   "execution_count": null,
   "metadata": {},
   "outputs": [],
   "source": [
    "from sklearn.naive_bayes import MultinomialNB\n",
    "\n",
    "clf = MultinomialNB()\n",
    "clf.fit(marvin_dataset[\"X_train\"], marvin_dataset[\"y_train\"])\n",
    "\n",
    "marvin_model = {\n",
    "    \"clf\" : clf,\n",
    "    \"vect\": marvin_dataset[\"vect\"]\n",
    "}\n",
    "\n",
    "print(\"Done!!!\")"
   ]
  },
  {
   "cell_type": "code",
   "execution_count": null,
   "metadata": {},
   "outputs": [],
   "source": [
    "from sklearn.metrics import accuracy_score\n",
    "\n",
    "y_prediction = marvin_model[\"clf\"].predict(marvin_dataset[\"X_test\"])\n",
    "\n",
    "accuracy = accuracy_score(y_prediction, marvin_dataset[\"y_test\"])\n",
    "\n",
    "print accuracy"
   ]
  },
  {
   "cell_type": "code",
   "execution_count": null,
   "metadata": {},
   "outputs": [],
   "source": [
    "input_message = {\n",
    "    \"nome\": \"As Brumas De Avalon - o Clássico Que Encantou Gerações - Edição Especial - Capa Dura\"\n",
    "}"
   ]
  },
  {
   "cell_type": "code",
   "execution_count": null,
   "metadata": {},
   "outputs": [],
   "source": [
    "print input_message\n",
    "\n",
    "input_message = marvin_model[\"vect\"].transform([input_message[\"nome\"]])"
   ]
  },
  {
   "cell_type": "code",
   "execution_count": null,
   "metadata": {},
   "outputs": [],
   "source": [
    "final_prediction = marvin_model[\"clf\"].predict(input_message)[0]"
   ]
  },
  {
   "cell_type": "code",
   "execution_count": null,
   "metadata": {},
   "outputs": [],
   "source": []
  }
 ],
 "metadata": {
  "kernelspec": {
   "display_name": "Python 2",
   "language": "python",
   "name": "python2"
  },
  "language_info": {
   "codemirror_mode": {
    "name": "ipython",
    "version": 2
   },
   "file_extension": ".py",
   "mimetype": "text/x-python",
   "name": "python",
   "nbconvert_exporter": "python",
   "pygments_lexer": "ipython2",
   "version": "2.7.10"
  }
 },
 "nbformat": 4,
 "nbformat_minor": 2
}
